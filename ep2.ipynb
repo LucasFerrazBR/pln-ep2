{
 "cells": [
  {
   "cell_type": "code",
   "execution_count": 1,
   "metadata": {},
   "outputs": [],
   "source": [
    "import pandas as pd"
   ]
  },
  {
   "cell_type": "code",
   "execution_count": 5,
   "metadata": {},
   "outputs": [
    {
     "name": "stdout",
     "output_type": "stream",
     "text": [
      "0           for\n",
      "1       against\n",
      "2       against\n",
      "3       against\n",
      "4       against\n",
      "         ...   \n",
      "5488    against\n",
      "5489    against\n",
      "5490        for\n",
      "5491        for\n",
      "5492        for\n",
      "Name: posicao, Length: 5493, dtype: object\n"
     ]
    }
   ],
   "source": [
    "df_cloroquina = pd.read_excel(\"ep2-cloroquina-treino.xlsx\",sheet_name='train',usecols=['texto','posicao'])\n",
    "x = df_cloroquina.texto\n",
    "y = df_cloroquina.posicao"
   ]
  }
 ],
 "metadata": {
  "interpreter": {
   "hash": "4fc3c70bdf126d36ef05241663b6e1e6a74791aef0a540d9607b18a3d8930c22"
  },
  "kernelspec": {
   "display_name": "Python 3.9.5 64-bit",
   "language": "python",
   "name": "python3"
  },
  "language_info": {
   "codemirror_mode": {
    "name": "ipython",
    "version": 3
   },
   "file_extension": ".py",
   "mimetype": "text/x-python",
   "name": "python",
   "nbconvert_exporter": "python",
   "pygments_lexer": "ipython3",
   "version": "3.8.8"
  },
  "orig_nbformat": 4
 },
 "nbformat": 4,
 "nbformat_minor": 2
}
